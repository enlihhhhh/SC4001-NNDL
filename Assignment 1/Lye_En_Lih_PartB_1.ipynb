{
 "cells": [
  {
   "cell_type": "markdown",
   "metadata": {
    "id": "jnRX6LUnqBpw"
   },
   "source": [
    "CS4001/4042 Assignment 1, Part B, Q1\n",
    "---\n",
    "\n",
    "Real world datasets often have a mix of numeric and categorical features – this dataset is one example. To build models on such data, categorical features have to be encoded or embedded.\n",
    "\n",
    "PyTorch Tabular is a library that makes it very convenient to build neural networks for tabular data. It is built on top of PyTorch Lightning, which abstracts away boilerplate model training code and makes it easy to integrate other tools, e.g. TensorBoard for experiment tracking.\n",
    "\n",
    "For questions B1 and B2, the following features should be used:   \n",
    "- **Numeric / Continuous** features: dist_to_nearest_stn, dist_to_dhoby, degree_centrality, eigenvector_centrality, remaining_lease_years, floor_area_sqm\n",
    "- **Categorical** features: month, town, flat_model_type, storey_range"
   ]
  },
  {
   "cell_type": "markdown",
   "metadata": {
    "id": "Kn0j2MRKqKVs"
   },
   "source": [
    "\n",
    "\n",
    "---\n",
    "\n"
   ]
  },
  {
   "cell_type": "code",
   "execution_count": 1,
   "metadata": {
    "id": "jA67PbIY3PnH"
   },
   "outputs": [],
   "source": [
    "#!pip install pytorch_tabular"
   ]
  },
  {
   "cell_type": "code",
   "execution_count": 2,
   "metadata": {
    "id": "Jr6P3U7w3NVl"
   },
   "outputs": [],
   "source": [
    "SEED = 42\n",
    "\n",
    "import os\n",
    "\n",
    "import random\n",
    "random.seed(SEED)\n",
    "\n",
    "import numpy as np\n",
    "np.random.seed(SEED)\n",
    "\n",
    "import pandas as pd\n",
    "\n",
    "from pytorch_tabular import TabularModel\n",
    "from pytorch_tabular.models import CategoryEmbeddingModelConfig\n",
    "from pytorch_tabular.config import (\n",
    "    DataConfig,\n",
    "    OptimizerConfig,\n",
    "    TrainerConfig,\n",
    ")"
   ]
  },
  {
   "cell_type": "markdown",
   "metadata": {
    "id": "zGyEWcVlqKTz"
   },
   "source": [
    "> Divide the dataset (‘hdb_price_prediction.csv’) into train, validation and test sets by using entries from year 2019 and before as training data, year 2020 as validation data and year 2021 as test data.\n",
    "**Do not** use data from year 2022 and year 2023.\n",
    "\n"
   ]
  },
  {
   "cell_type": "code",
   "execution_count": 3,
   "metadata": {},
   "outputs": [
    {
     "data": {
      "text/html": [
       "<div>\n",
       "<style scoped>\n",
       "    .dataframe tbody tr th:only-of-type {\n",
       "        vertical-align: middle;\n",
       "    }\n",
       "\n",
       "    .dataframe tbody tr th {\n",
       "        vertical-align: top;\n",
       "    }\n",
       "\n",
       "    .dataframe thead th {\n",
       "        text-align: right;\n",
       "    }\n",
       "</style>\n",
       "<table border=\"1\" class=\"dataframe\">\n",
       "  <thead>\n",
       "    <tr style=\"text-align: right;\">\n",
       "      <th></th>\n",
       "      <th>month</th>\n",
       "      <th>year</th>\n",
       "      <th>town</th>\n",
       "      <th>full_address</th>\n",
       "      <th>nearest_stn</th>\n",
       "      <th>dist_to_nearest_stn</th>\n",
       "      <th>dist_to_dhoby</th>\n",
       "      <th>degree_centrality</th>\n",
       "      <th>eigenvector_centrality</th>\n",
       "      <th>flat_model_type</th>\n",
       "      <th>remaining_lease_years</th>\n",
       "      <th>floor_area_sqm</th>\n",
       "      <th>storey_range</th>\n",
       "      <th>resale_price</th>\n",
       "    </tr>\n",
       "  </thead>\n",
       "  <tbody>\n",
       "    <tr>\n",
       "      <th>0</th>\n",
       "      <td>1</td>\n",
       "      <td>2017</td>\n",
       "      <td>ANG MO KIO</td>\n",
       "      <td>406 ANG MO KIO AVENUE 10</td>\n",
       "      <td>Ang Mo Kio</td>\n",
       "      <td>1.007264</td>\n",
       "      <td>7.006044</td>\n",
       "      <td>0.016807</td>\n",
       "      <td>0.006243</td>\n",
       "      <td>2 ROOM, Improved</td>\n",
       "      <td>61.333333</td>\n",
       "      <td>44.0</td>\n",
       "      <td>10 TO 12</td>\n",
       "      <td>232000.0</td>\n",
       "    </tr>\n",
       "    <tr>\n",
       "      <th>1</th>\n",
       "      <td>1</td>\n",
       "      <td>2017</td>\n",
       "      <td>ANG MO KIO</td>\n",
       "      <td>108 ANG MO KIO AVENUE 4</td>\n",
       "      <td>Ang Mo Kio</td>\n",
       "      <td>1.271389</td>\n",
       "      <td>7.983837</td>\n",
       "      <td>0.016807</td>\n",
       "      <td>0.006243</td>\n",
       "      <td>3 ROOM, New Generation</td>\n",
       "      <td>60.583333</td>\n",
       "      <td>67.0</td>\n",
       "      <td>01 TO 03</td>\n",
       "      <td>250000.0</td>\n",
       "    </tr>\n",
       "    <tr>\n",
       "      <th>2</th>\n",
       "      <td>1</td>\n",
       "      <td>2017</td>\n",
       "      <td>ANG MO KIO</td>\n",
       "      <td>602 ANG MO KIO AVENUE 5</td>\n",
       "      <td>Yio Chu Kang</td>\n",
       "      <td>1.069743</td>\n",
       "      <td>9.090700</td>\n",
       "      <td>0.016807</td>\n",
       "      <td>0.002459</td>\n",
       "      <td>3 ROOM, New Generation</td>\n",
       "      <td>62.416667</td>\n",
       "      <td>67.0</td>\n",
       "      <td>01 TO 03</td>\n",
       "      <td>262000.0</td>\n",
       "    </tr>\n",
       "    <tr>\n",
       "      <th>3</th>\n",
       "      <td>1</td>\n",
       "      <td>2017</td>\n",
       "      <td>ANG MO KIO</td>\n",
       "      <td>465 ANG MO KIO AVENUE 10</td>\n",
       "      <td>Ang Mo Kio</td>\n",
       "      <td>0.946890</td>\n",
       "      <td>7.519889</td>\n",
       "      <td>0.016807</td>\n",
       "      <td>0.006243</td>\n",
       "      <td>3 ROOM, New Generation</td>\n",
       "      <td>62.083333</td>\n",
       "      <td>68.0</td>\n",
       "      <td>04 TO 06</td>\n",
       "      <td>265000.0</td>\n",
       "    </tr>\n",
       "    <tr>\n",
       "      <th>4</th>\n",
       "      <td>1</td>\n",
       "      <td>2017</td>\n",
       "      <td>ANG MO KIO</td>\n",
       "      <td>601 ANG MO KIO AVENUE 5</td>\n",
       "      <td>Yio Chu Kang</td>\n",
       "      <td>1.092551</td>\n",
       "      <td>9.130489</td>\n",
       "      <td>0.016807</td>\n",
       "      <td>0.002459</td>\n",
       "      <td>3 ROOM, New Generation</td>\n",
       "      <td>62.416667</td>\n",
       "      <td>67.0</td>\n",
       "      <td>01 TO 03</td>\n",
       "      <td>265000.0</td>\n",
       "    </tr>\n",
       "  </tbody>\n",
       "</table>\n",
       "</div>"
      ],
      "text/plain": [
       "   month  year        town              full_address   nearest_stn  \\\n",
       "0      1  2017  ANG MO KIO  406 ANG MO KIO AVENUE 10    Ang Mo Kio   \n",
       "1      1  2017  ANG MO KIO   108 ANG MO KIO AVENUE 4    Ang Mo Kio   \n",
       "2      1  2017  ANG MO KIO   602 ANG MO KIO AVENUE 5  Yio Chu Kang   \n",
       "3      1  2017  ANG MO KIO  465 ANG MO KIO AVENUE 10    Ang Mo Kio   \n",
       "4      1  2017  ANG MO KIO   601 ANG MO KIO AVENUE 5  Yio Chu Kang   \n",
       "\n",
       "   dist_to_nearest_stn  dist_to_dhoby  degree_centrality  \\\n",
       "0             1.007264       7.006044           0.016807   \n",
       "1             1.271389       7.983837           0.016807   \n",
       "2             1.069743       9.090700           0.016807   \n",
       "3             0.946890       7.519889           0.016807   \n",
       "4             1.092551       9.130489           0.016807   \n",
       "\n",
       "   eigenvector_centrality         flat_model_type  remaining_lease_years  \\\n",
       "0                0.006243        2 ROOM, Improved              61.333333   \n",
       "1                0.006243  3 ROOM, New Generation              60.583333   \n",
       "2                0.002459  3 ROOM, New Generation              62.416667   \n",
       "3                0.006243  3 ROOM, New Generation              62.083333   \n",
       "4                0.002459  3 ROOM, New Generation              62.416667   \n",
       "\n",
       "   floor_area_sqm storey_range  resale_price  \n",
       "0            44.0     10 TO 12      232000.0  \n",
       "1            67.0     01 TO 03      250000.0  \n",
       "2            67.0     01 TO 03      262000.0  \n",
       "3            68.0     04 TO 06      265000.0  \n",
       "4            67.0     01 TO 03      265000.0  "
      ]
     },
     "execution_count": 3,
     "metadata": {},
     "output_type": "execute_result"
    }
   ],
   "source": [
    "df = pd.read_csv('hdb_price_prediction.csv')\n",
    "\n",
    "df.head()"
   ]
  },
  {
   "cell_type": "code",
   "execution_count": 4,
   "metadata": {
    "scrolled": true
   },
   "outputs": [
    {
     "name": "stdout",
     "output_type": "stream",
     "text": [
      "<class 'pandas.core.frame.DataFrame'>\n",
      "RangeIndex: 159553 entries, 0 to 159552\n",
      "Data columns (total 14 columns):\n",
      " #   Column                  Non-Null Count   Dtype  \n",
      "---  ------                  --------------   -----  \n",
      " 0   month                   159553 non-null  int64  \n",
      " 1   year                    159553 non-null  int64  \n",
      " 2   town                    159553 non-null  object \n",
      " 3   full_address            159553 non-null  object \n",
      " 4   nearest_stn             159553 non-null  object \n",
      " 5   dist_to_nearest_stn     159553 non-null  float64\n",
      " 6   dist_to_dhoby           159553 non-null  float64\n",
      " 7   degree_centrality       159553 non-null  float64\n",
      " 8   eigenvector_centrality  159553 non-null  float64\n",
      " 9   flat_model_type         159553 non-null  object \n",
      " 10  remaining_lease_years   159553 non-null  float64\n",
      " 11  floor_area_sqm          159553 non-null  float64\n",
      " 12  storey_range            159553 non-null  object \n",
      " 13  resale_price            159553 non-null  float64\n",
      "dtypes: float64(7), int64(2), object(5)\n",
      "memory usage: 17.0+ MB\n"
     ]
    }
   ],
   "source": [
    "df.info()"
   ]
  },
  {
   "cell_type": "code",
   "execution_count": 5,
   "metadata": {
    "id": "hoCPcOWupw5Y"
   },
   "outputs": [
    {
     "name": "stdout",
     "output_type": "stream",
     "text": [
      "Training Data: (64057, 11)\n",
      "Validation Data: (23313, 11)\n",
      "Testing Data: (29057, 11)\n"
     ]
    }
   ],
   "source": [
    "# TODO: Enter your code here\n",
    "\n",
    "# Training Data Set: Year 2019 and before\n",
    "df_train = df[df['year'] <= 2019].copy()\n",
    "# Validation Data Set: Year 2020\n",
    "df_val = df[df['year'] == 2020].copy()\n",
    "# Testing Data Set: Year 2021\n",
    "df_test = df[df['year'] == 2021].copy()\n",
    "\n",
    "# Dropping Unncessary Columns\n",
    "df_train.drop(columns=['year','full_address','nearest_stn'], inplace=True)\n",
    "df_val.drop(columns=['year','full_address','nearest_stn'], inplace=True)\n",
    "df_test.drop(columns=['year','full_address','nearest_stn'], inplace=True)\n",
    "\n",
    "print(\"Training Data:\", df_train.shape)\n",
    "print(\"Validation Data:\", df_val.shape)\n",
    "print(\"Testing Data:\", df_test.shape)"
   ]
  },
  {
   "cell_type": "markdown",
   "metadata": {
    "id": "sebMgSuzqPe7"
   },
   "source": [
    "> Refer to the documentation of **PyTorch Tabular** and perform the following tasks: https://pytorch-tabular.readthedocs.io/en/latest/#usage\n",
    "- Use **[DataConfig](https://pytorch-tabular.readthedocs.io/en/latest/data/)** to define the target variable, as well as the names of the continuous and categorical variables.\n",
    "- Use **[TrainerConfig](https://pytorch-tabular.readthedocs.io/en/latest/training/)** to automatically tune the learning rate. Set batch_size to be 1024 and set max_epoch as 50.\n",
    "- Use **[CategoryEmbeddingModelConfig](https://pytorch-tabular.readthedocs.io/en/latest/models/#category-embedding-model)** to create a feedforward neural network with 1 hidden layer containing 50 neurons.\n",
    "- Use **[OptimizerConfig](https://pytorch-tabular.readthedocs.io/en/latest/optimizer/)** to choose Adam optimiser. There is no need to set the learning rate (since it will be tuned automatically) nor scheduler.\n",
    "- Use **[TabularModel](https://pytorch-tabular.readthedocs.io/en/latest/tabular_model/)** to initialise the model and put all the configs together."
   ]
  },
  {
   "cell_type": "code",
   "execution_count": 6,
   "metadata": {},
   "outputs": [],
   "source": [
    "num_col_names = ['dist_to_nearest_stn','dist_to_dhoby','degree_centrality','eigenvector_centrality',\n",
    "                 'remaining_lease_years','floor_area_sqm']\n",
    "cat_col_names = ['month','town','flat_model_type','storey_range']"
   ]
  },
  {
   "cell_type": "code",
   "execution_count": 7,
   "metadata": {
    "id": "ZZWAYdNhqPzh",
    "scrolled": true
   },
   "outputs": [
    {
     "name": "stderr",
     "output_type": "stream",
     "text": [
      "2023-10-12 02:17:29,945 - {pytorch_tabular.tabular_model:105} - INFO - Experiment Tracking is turned off\n"
     ]
    }
   ],
   "source": [
    "# TODO: Enter your code here\n",
    "data_config = DataConfig(\n",
    "    target=[\"resale_price\"],  \n",
    "    continuous_cols=num_col_names,\n",
    "    categorical_cols=cat_col_names,\n",
    ")\n",
    "trainer_config = TrainerConfig(\n",
    "    auto_lr_find=True,  # Runs the LRFinder to automatically derive a learning rate\n",
    "    batch_size=1024,\n",
    "    max_epochs=50,\n",
    ")\n",
    "optimizer_config = OptimizerConfig()\n",
    "\n",
    "model_config = CategoryEmbeddingModelConfig(\n",
    "    task=\"regression\",\n",
    "    layers=\"50\",  \n",
    ")\n",
    "\n",
    "tabular_model = TabularModel(\n",
    "    data_config=data_config,\n",
    "    model_config=model_config,\n",
    "    optimizer_config=optimizer_config,\n",
    "    trainer_config=trainer_config,\n",
    ")"
   ]
  },
  {
   "cell_type": "code",
   "execution_count": 8,
   "metadata": {},
   "outputs": [],
   "source": [
    "#!pip install torch_optimizer"
   ]
  },
  {
   "cell_type": "code",
   "execution_count": 9,
   "metadata": {
    "scrolled": true
   },
   "outputs": [
    {
     "name": "stderr",
     "output_type": "stream",
     "text": [
      "Global seed set to 42\n",
      "2023-10-12 02:17:29,975 - {pytorch_tabular.tabular_model:473} - INFO - Preparing the DataLoaders\n",
      "2023-10-12 02:17:29,977 - {pytorch_tabular.tabular_datamodule:290} - INFO - Setting up the datamodule for regression task\n",
      "2023-10-12 02:17:30,037 - {pytorch_tabular.tabular_model:521} - INFO - Preparing the Model: CategoryEmbeddingModel\n",
      "/opt/anaconda3/envs/env_pytorch/lib/python3.9/site-packages/pytorch_tabular/models/base_model.py:147: UserWarning: Plotly is not installed. Please install plotly to log logits. You can install plotly using pip install plotly or install PyTorch Tabular using pip install pytorch-tabular[all]\n",
      "  warnings.warn(\n",
      "2023-10-12 02:17:30,056 - {pytorch_tabular.tabular_model:268} - INFO - Preparing the Trainer\n",
      "/opt/anaconda3/envs/env_pytorch/lib/python3.9/site-packages/pytorch_lightning/trainer/connectors/accelerator_connector.py:589: LightningDeprecationWarning: The Trainer argument `auto_select_gpus` has been deprecated in v1.9.0 and will be removed in v2.0.0. Please use the function `pytorch_lightning.accelerators.find_usable_cuda_devices` instead.\n",
      "  rank_zero_deprecation(\n",
      "GPU available: False, used: False\n",
      "TPU available: False, using: 0 TPU cores\n",
      "IPU available: False, using: 0 IPUs\n",
      "HPU available: False, using: 0 HPUs\n",
      "2023-10-12 02:17:30,087 - {pytorch_tabular.tabular_model:573} - INFO - Auto LR Find Started\n",
      "/opt/anaconda3/envs/env_pytorch/lib/python3.9/site-packages/pytorch_lightning/callbacks/model_checkpoint.py:613: UserWarning: Checkpoint directory /Users/enlih/Library/CloudStorage/OneDrive-NanyangTechnologicalUniversity/SC4001 Neural Network & Deep Learning/Project/saved_models exists and is not empty.\n",
      "  rank_zero_warn(f\"Checkpoint directory {dirpath} exists and is not empty.\")\n",
      "/opt/anaconda3/envs/env_pytorch/lib/python3.9/site-packages/pytorch_lightning/trainer/connectors/data_connector.py:224: PossibleUserWarning: The dataloader, train_dataloader, does not have many workers which may be a bottleneck. Consider increasing the value of the `num_workers` argument` (try 8 which is the number of cpus on this machine) in the `DataLoader` init to improve performance.\n",
      "  rank_zero_warn(\n",
      "/opt/anaconda3/envs/env_pytorch/lib/python3.9/site-packages/pytorch_lightning/trainer/connectors/data_connector.py:224: PossibleUserWarning: The dataloader, val_dataloader 0, does not have many workers which may be a bottleneck. Consider increasing the value of the `num_workers` argument` (try 8 which is the number of cpus on this machine) in the `DataLoader` init to improve performance.\n",
      "  rank_zero_warn(\n",
      "/opt/anaconda3/envs/env_pytorch/lib/python3.9/site-packages/pytorch_lightning/core/module.py:493: UserWarning: You called `self.log('valid_loss', ..., logger=True)` but have no logger configured. You can enable one by doing `Trainer(logger=ALogger(...))`\n",
      "  rank_zero_warn(\n",
      "/opt/anaconda3/envs/env_pytorch/lib/python3.9/site-packages/pytorch_lightning/core/module.py:493: UserWarning: You called `self.log('valid_mean_squared_error', ..., logger=True)` but have no logger configured. You can enable one by doing `Trainer(logger=ALogger(...))`\n",
      "  rank_zero_warn(\n"
     ]
    },
    {
     "data": {
      "application/vnd.jupyter.widget-view+json": {
       "model_id": "f760d9cf5d0b4880b61ee471d38c9a03",
       "version_major": 2,
       "version_minor": 0
      },
      "text/plain": [
       "Finding best initial lr:   0%|          | 0/100 [00:00<?, ?it/s]"
      ]
     },
     "metadata": {},
     "output_type": "display_data"
    },
    {
     "name": "stderr",
     "output_type": "stream",
     "text": [
      "/opt/anaconda3/envs/env_pytorch/lib/python3.9/site-packages/pytorch_lightning/core/module.py:493: UserWarning: You called `self.log('train_loss', ..., logger=True)` but have no logger configured. You can enable one by doing `Trainer(logger=ALogger(...))`\n",
      "  rank_zero_warn(\n",
      "/opt/anaconda3/envs/env_pytorch/lib/python3.9/site-packages/pytorch_lightning/core/module.py:493: UserWarning: You called `self.log('train_mean_squared_error', ..., logger=True)` but have no logger configured. You can enable one by doing `Trainer(logger=ALogger(...))`\n",
      "  rank_zero_warn(\n",
      "`Trainer.fit` stopped: `max_steps=100` reached.\n",
      "Learning rate set to 0.5754399373371567\n",
      "Restoring states from the checkpoint path at /Users/enlih/Library/CloudStorage/OneDrive-NanyangTechnologicalUniversity/SC4001 Neural Network & Deep Learning/Project/.lr_find_69d4ba94-61a9-4110-9d07-11a423d2699a.ckpt\n",
      "Restored all states from the checkpoint file at /Users/enlih/Library/CloudStorage/OneDrive-NanyangTechnologicalUniversity/SC4001 Neural Network & Deep Learning/Project/.lr_find_69d4ba94-61a9-4110-9d07-11a423d2699a.ckpt\n",
      "2023-10-12 02:17:32,870 - {pytorch_tabular.tabular_model:575} - INFO - Suggested LR: 0.5754399373371567. For plot and detailed analysis, use `find_learning_rate` method.\n",
      "2023-10-12 02:17:32,871 - {pytorch_tabular.tabular_model:582} - INFO - Training Started\n"
     ]
    },
    {
     "data": {
      "text/html": [
       "<pre style=\"white-space:pre;overflow-x:auto;line-height:normal;font-family:Menlo,'DejaVu Sans Mono',consolas,'Courier New',monospace\">┏━━━┳━━━━━━━━━━━━━━━━━━┳━━━━━━━━━━━━━━━━━━━━━━━━━━━┳━━━━━━━━┓\n",
       "┃<span style=\"color: #800080; text-decoration-color: #800080; font-weight: bold\">   </span>┃<span style=\"color: #800080; text-decoration-color: #800080; font-weight: bold\"> Name             </span>┃<span style=\"color: #800080; text-decoration-color: #800080; font-weight: bold\"> Type                      </span>┃<span style=\"color: #800080; text-decoration-color: #800080; font-weight: bold\"> Params </span>┃\n",
       "┡━━━╇━━━━━━━━━━━━━━━━━━╇━━━━━━━━━━━━━━━━━━━━━━━━━━━╇━━━━━━━━┩\n",
       "│<span style=\"color: #7f7f7f; text-decoration-color: #7f7f7f\"> 0 </span>│ _backbone        │ CategoryEmbeddingBackbone │  2.9 K │\n",
       "│<span style=\"color: #7f7f7f; text-decoration-color: #7f7f7f\"> 1 </span>│ _embedding_layer │ Embedding1dLayer          │  1.5 K │\n",
       "│<span style=\"color: #7f7f7f; text-decoration-color: #7f7f7f\"> 2 </span>│ head             │ LinearHead                │     51 │\n",
       "│<span style=\"color: #7f7f7f; text-decoration-color: #7f7f7f\"> 3 </span>│ loss             │ MSELoss                   │      0 │\n",
       "└───┴──────────────────┴───────────────────────────┴────────┘\n",
       "</pre>\n"
      ],
      "text/plain": [
       "┏━━━┳━━━━━━━━━━━━━━━━━━┳━━━━━━━━━━━━━━━━━━━━━━━━━━━┳━━━━━━━━┓\n",
       "┃\u001b[1;35m \u001b[0m\u001b[1;35m \u001b[0m\u001b[1;35m \u001b[0m┃\u001b[1;35m \u001b[0m\u001b[1;35mName            \u001b[0m\u001b[1;35m \u001b[0m┃\u001b[1;35m \u001b[0m\u001b[1;35mType                     \u001b[0m\u001b[1;35m \u001b[0m┃\u001b[1;35m \u001b[0m\u001b[1;35mParams\u001b[0m\u001b[1;35m \u001b[0m┃\n",
       "┡━━━╇━━━━━━━━━━━━━━━━━━╇━━━━━━━━━━━━━━━━━━━━━━━━━━━╇━━━━━━━━┩\n",
       "│\u001b[2m \u001b[0m\u001b[2m0\u001b[0m\u001b[2m \u001b[0m│ _backbone        │ CategoryEmbeddingBackbone │  2.9 K │\n",
       "│\u001b[2m \u001b[0m\u001b[2m1\u001b[0m\u001b[2m \u001b[0m│ _embedding_layer │ Embedding1dLayer          │  1.5 K │\n",
       "│\u001b[2m \u001b[0m\u001b[2m2\u001b[0m\u001b[2m \u001b[0m│ head             │ LinearHead                │     51 │\n",
       "│\u001b[2m \u001b[0m\u001b[2m3\u001b[0m\u001b[2m \u001b[0m│ loss             │ MSELoss                   │      0 │\n",
       "└───┴──────────────────┴───────────────────────────┴────────┘\n"
      ]
     },
     "metadata": {},
     "output_type": "display_data"
    },
    {
     "data": {
      "text/html": [
       "<pre style=\"white-space:pre;overflow-x:auto;line-height:normal;font-family:Menlo,'DejaVu Sans Mono',consolas,'Courier New',monospace\"><span style=\"font-weight: bold\">Trainable params</span>: 4.5 K                                                                                            \n",
       "<span style=\"font-weight: bold\">Non-trainable params</span>: 0                                                                                            \n",
       "<span style=\"font-weight: bold\">Total params</span>: 4.5 K                                                                                                \n",
       "<span style=\"font-weight: bold\">Total estimated model params size (MB)</span>: 0                                                                          \n",
       "</pre>\n"
      ],
      "text/plain": [
       "\u001b[1mTrainable params\u001b[0m: 4.5 K                                                                                            \n",
       "\u001b[1mNon-trainable params\u001b[0m: 0                                                                                            \n",
       "\u001b[1mTotal params\u001b[0m: 4.5 K                                                                                                \n",
       "\u001b[1mTotal estimated model params size (MB)\u001b[0m: 0                                                                          \n"
      ]
     },
     "metadata": {},
     "output_type": "display_data"
    },
    {
     "data": {
      "application/vnd.jupyter.widget-view+json": {
       "model_id": "9bf4bf31742e47d898ccaabd60f7f107",
       "version_major": 2,
       "version_minor": 0
      },
      "text/plain": [
       "Output()"
      ]
     },
     "metadata": {},
     "output_type": "display_data"
    },
    {
     "data": {
      "text/html": [
       "<pre style=\"white-space:pre;overflow-x:auto;line-height:normal;font-family:Menlo,'DejaVu Sans Mono',consolas,'Courier New',monospace\"></pre>\n"
      ],
      "text/plain": []
     },
     "metadata": {},
     "output_type": "display_data"
    },
    {
     "data": {
      "text/html": [
       "<pre style=\"white-space:pre;overflow-x:auto;line-height:normal;font-family:Menlo,'DejaVu Sans Mono',consolas,'Courier New',monospace\">\n",
       "</pre>\n"
      ],
      "text/plain": [
       "\n"
      ]
     },
     "metadata": {},
     "output_type": "display_data"
    },
    {
     "name": "stderr",
     "output_type": "stream",
     "text": [
      "2023-10-12 02:17:48,963 - {pytorch_tabular.tabular_model:584} - INFO - Training the model completed\n",
      "2023-10-12 02:17:48,964 - {pytorch_tabular.tabular_model:1258} - INFO - Loading the best model\n",
      "/opt/anaconda3/envs/env_pytorch/lib/python3.9/site-packages/pytorch_lightning/utilities/cloud_io.py:33: LightningDeprecationWarning: `pytorch_lightning.utilities.cloud_io.get_filesystem` has been deprecated in v1.8.0 and will be removed in v2.0.0. Please use `lightning_fabric.utilities.cloud_io.get_filesystem` instead.\n",
      "  rank_zero_deprecation(\n"
     ]
    },
    {
     "data": {
      "text/plain": [
       "<pytorch_lightning.trainer.trainer.Trainer at 0x7fcd4c2bb5b0>"
      ]
     },
     "execution_count": 9,
     "metadata": {},
     "output_type": "execute_result"
    }
   ],
   "source": [
    "from torch_optimizer import QHAdam\n",
    "# Training Tabular Model\n",
    "tabular_model.fit(df_train, \n",
    "                  validation=df_val, \n",
    "                  optimizer=QHAdam)"
   ]
  },
  {
   "cell_type": "code",
   "execution_count": 10,
   "metadata": {},
   "outputs": [
    {
     "data": {
      "application/vnd.jupyter.widget-view+json": {
       "model_id": "e31fe2d71d834241acfbbf05df21ddef",
       "version_major": 2,
       "version_minor": 0
      },
      "text/plain": [
       "Output()"
      ]
     },
     "metadata": {},
     "output_type": "display_data"
    },
    {
     "data": {
      "text/html": [
       "<pre style=\"white-space:pre;overflow-x:auto;line-height:normal;font-family:Menlo,'DejaVu Sans Mono',consolas,'Courier New',monospace\">/opt/anaconda3/envs/env_pytorch/lib/python3.9/site-packages/pytorch_lightning/core/module.py:493: UserWarning: You \n",
       "called `self.log('test_loss', ..., logger=True)` but have no logger configured. You can enable one by doing \n",
       "`Trainer(logger=ALogger(...))`\n",
       "  rank_zero_warn(\n",
       "</pre>\n"
      ],
      "text/plain": [
       "/opt/anaconda3/envs/env_pytorch/lib/python3.9/site-packages/pytorch_lightning/core/module.py:493: UserWarning: You \n",
       "called `self.log('test_loss', ..., logger=True)` but have no logger configured. You can enable one by doing \n",
       "`Trainer(logger=ALogger(...))`\n",
       "  rank_zero_warn(\n"
      ]
     },
     "metadata": {},
     "output_type": "display_data"
    },
    {
     "data": {
      "text/html": [
       "<pre style=\"white-space:pre;overflow-x:auto;line-height:normal;font-family:Menlo,'DejaVu Sans Mono',consolas,'Courier New',monospace\">/opt/anaconda3/envs/env_pytorch/lib/python3.9/site-packages/pytorch_lightning/core/module.py:493: UserWarning: You \n",
       "called `self.log('test_mean_squared_error', ..., logger=True)` but have no logger configured. You can enable one by\n",
       "doing `Trainer(logger=ALogger(...))`\n",
       "  rank_zero_warn(\n",
       "</pre>\n"
      ],
      "text/plain": [
       "/opt/anaconda3/envs/env_pytorch/lib/python3.9/site-packages/pytorch_lightning/core/module.py:493: UserWarning: You \n",
       "called `self.log('test_mean_squared_error', ..., logger=True)` but have no logger configured. You can enable one by\n",
       "doing `Trainer(logger=ALogger(...))`\n",
       "  rank_zero_warn(\n"
      ]
     },
     "metadata": {},
     "output_type": "display_data"
    },
    {
     "name": "stderr",
     "output_type": "stream",
     "text": [
      "/opt/anaconda3/envs/env_pytorch/lib/python3.9/site-packages/pytorch_lightning/trainer/connectors/data_connector.py:224: PossibleUserWarning: The dataloader, test_dataloader 0, does not have many workers which may be a bottleneck. Consider increasing the value of the `num_workers` argument` (try 8 which is the number of cpus on this machine) in the `DataLoader` init to improve performance.\n",
      "  rank_zero_warn(\n"
     ]
    },
    {
     "data": {
      "text/html": [
       "<pre style=\"white-space:pre;overflow-x:auto;line-height:normal;font-family:Menlo,'DejaVu Sans Mono',consolas,'Courier New',monospace\">┏━━━━━━━━━━━━━━━━━━━━━━━━━━━┳━━━━━━━━━━━━━━━━━━━━━━━━━━━┓\n",
       "┃<span style=\"font-weight: bold\">        Test metric        </span>┃<span style=\"font-weight: bold\">       DataLoader 0        </span>┃\n",
       "┡━━━━━━━━━━━━━━━━━━━━━━━━━━━╇━━━━━━━━━━━━━━━━━━━━━━━━━━━┩\n",
       "│<span style=\"color: #008080; text-decoration-color: #008080\">         test_loss         </span>│<span style=\"color: #800080; text-decoration-color: #800080\">       5882417664.0        </span>│\n",
       "│<span style=\"color: #008080; text-decoration-color: #008080\">  test_mean_squared_error  </span>│<span style=\"color: #800080; text-decoration-color: #800080\">       5882417664.0        </span>│\n",
       "└───────────────────────────┴───────────────────────────┘\n",
       "</pre>\n"
      ],
      "text/plain": [
       "┏━━━━━━━━━━━━━━━━━━━━━━━━━━━┳━━━━━━━━━━━━━━━━━━━━━━━━━━━┓\n",
       "┃\u001b[1m \u001b[0m\u001b[1m       Test metric       \u001b[0m\u001b[1m \u001b[0m┃\u001b[1m \u001b[0m\u001b[1m      DataLoader 0       \u001b[0m\u001b[1m \u001b[0m┃\n",
       "┡━━━━━━━━━━━━━━━━━━━━━━━━━━━╇━━━━━━━━━━━━━━━━━━━━━━━━━━━┩\n",
       "│\u001b[36m \u001b[0m\u001b[36m        test_loss        \u001b[0m\u001b[36m \u001b[0m│\u001b[35m \u001b[0m\u001b[35m      5882417664.0       \u001b[0m\u001b[35m \u001b[0m│\n",
       "│\u001b[36m \u001b[0m\u001b[36m test_mean_squared_error \u001b[0m\u001b[36m \u001b[0m│\u001b[35m \u001b[0m\u001b[35m      5882417664.0       \u001b[0m\u001b[35m \u001b[0m│\n",
       "└───────────────────────────┴───────────────────────────┘\n"
      ]
     },
     "metadata": {},
     "output_type": "display_data"
    },
    {
     "data": {
      "text/html": [
       "<pre style=\"white-space:pre;overflow-x:auto;line-height:normal;font-family:Menlo,'DejaVu Sans Mono',consolas,'Courier New',monospace\"></pre>\n"
      ],
      "text/plain": []
     },
     "metadata": {},
     "output_type": "display_data"
    },
    {
     "data": {
      "text/html": [
       "<pre style=\"white-space:pre;overflow-x:auto;line-height:normal;font-family:Menlo,'DejaVu Sans Mono',consolas,'Courier New',monospace\">\n",
       "</pre>\n"
      ],
      "text/plain": [
       "\n"
      ]
     },
     "metadata": {},
     "output_type": "display_data"
    },
    {
     "data": {
      "application/vnd.jupyter.widget-view+json": {
       "model_id": "49f5a47ac2424dd1ad27624883cadffd",
       "version_major": 2,
       "version_minor": 0
      },
      "text/plain": [
       "Output()"
      ]
     },
     "metadata": {},
     "output_type": "display_data"
    },
    {
     "data": {
      "text/html": [
       "<pre style=\"white-space:pre;overflow-x:auto;line-height:normal;font-family:Menlo,'DejaVu Sans Mono',consolas,'Courier New',monospace\"></pre>\n"
      ],
      "text/plain": []
     },
     "metadata": {},
     "output_type": "display_data"
    },
    {
     "data": {
      "text/html": [
       "<pre style=\"white-space:pre;overflow-x:auto;line-height:normal;font-family:Menlo,'DejaVu Sans Mono',consolas,'Courier New',monospace\">\n",
       "</pre>\n"
      ],
      "text/plain": [
       "\n"
      ]
     },
     "metadata": {},
     "output_type": "display_data"
    }
   ],
   "source": [
    "# Evaluation and Prediction\n",
    "evaluation = tabular_model.evaluate(df_test)\n",
    "predicted = tabular_model.predict(df_test)"
   ]
  },
  {
   "cell_type": "code",
   "execution_count": 11,
   "metadata": {},
   "outputs": [
    {
     "name": "stdout",
     "output_type": "stream",
     "text": [
      "R^2 Score: 0.7776187688137617\n",
      "Root Mean Squared Error (RMSE): 76696.92315065298\n"
     ]
    }
   ],
   "source": [
    "from sklearn.metrics import r2_score\n",
    "from sklearn.metrics import mean_squared_error\n",
    "\n",
    "# Getting the True Values and Predicted Values for RMSE and R2\n",
    "y_true = predicted['resale_price']\n",
    "y_pred = predicted['resale_price_prediction']\n",
    "\n",
    "r2 = r2_score(y_true, y_pred)\n",
    "print(\"R^2 Score:\", r2)\n",
    "mse = mean_squared_error(y_true, y_pred)\n",
    "print(\"Root Mean Squared Error (RMSE):\", np.sqrt(mse))"
   ]
  },
  {
   "cell_type": "markdown",
   "metadata": {
    "id": "-2UXPKq0qWQG"
   },
   "source": [
    "> Report the test RMSE error and the test R2 value that you obtained.\n",
    "\n"
   ]
  },
  {
   "cell_type": "markdown",
   "metadata": {
    "id": "zmE9Bc7Nqadi"
   },
   "source": [
    "\\# TODO: \\<The R^2 value is 0.7776187688137617 and RMSE error is 76696.92315065298\\>"
   ]
  },
  {
   "cell_type": "markdown",
   "metadata": {
    "id": "NEJhRU18qX22"
   },
   "source": [
    "> Print out the corresponding rows in the dataframe for the top 25 test samples with the largest errors. Identify a trend in these poor predictions and suggest a way to reduce these errors.\n",
    "\n"
   ]
  },
  {
   "cell_type": "code",
   "execution_count": 12,
   "metadata": {
    "id": "5ma5K9vKqZEq",
    "scrolled": false
   },
   "outputs": [
    {
     "data": {
      "text/html": [
       "<div>\n",
       "<style scoped>\n",
       "    .dataframe tbody tr th:only-of-type {\n",
       "        vertical-align: middle;\n",
       "    }\n",
       "\n",
       "    .dataframe tbody tr th {\n",
       "        vertical-align: top;\n",
       "    }\n",
       "\n",
       "    .dataframe thead th {\n",
       "        text-align: right;\n",
       "    }\n",
       "</style>\n",
       "<table border=\"1\" class=\"dataframe\">\n",
       "  <thead>\n",
       "    <tr style=\"text-align: right;\">\n",
       "      <th></th>\n",
       "      <th>month</th>\n",
       "      <th>year</th>\n",
       "      <th>town</th>\n",
       "      <th>full_address</th>\n",
       "      <th>nearest_stn</th>\n",
       "      <th>dist_to_nearest_stn</th>\n",
       "      <th>dist_to_dhoby</th>\n",
       "      <th>degree_centrality</th>\n",
       "      <th>eigenvector_centrality</th>\n",
       "      <th>flat_model_type</th>\n",
       "      <th>remaining_lease_years</th>\n",
       "      <th>floor_area_sqm</th>\n",
       "      <th>storey_range</th>\n",
       "      <th>resale_price</th>\n",
       "      <th>error</th>\n",
       "    </tr>\n",
       "  </thead>\n",
       "  <tbody>\n",
       "    <tr>\n",
       "      <th>0</th>\n",
       "      <td>11</td>\n",
       "      <td>2021</td>\n",
       "      <td>BUKIT MERAH</td>\n",
       "      <td>46 SENG POH ROAD</td>\n",
       "      <td>Tiong Bahru</td>\n",
       "      <td>0.581977</td>\n",
       "      <td>2.309477</td>\n",
       "      <td>0.016807</td>\n",
       "      <td>0.047782</td>\n",
       "      <td>3 ROOM, Standard</td>\n",
       "      <td>50.166667</td>\n",
       "      <td>88.0</td>\n",
       "      <td>01 TO 03</td>\n",
       "      <td>780000.0</td>\n",
       "      <td>415313.50000</td>\n",
       "    </tr>\n",
       "    <tr>\n",
       "      <th>1</th>\n",
       "      <td>6</td>\n",
       "      <td>2021</td>\n",
       "      <td>BUKIT BATOK</td>\n",
       "      <td>288A BUKIT BATOK STREET 25</td>\n",
       "      <td>Bukit Batok</td>\n",
       "      <td>1.292540</td>\n",
       "      <td>10.763777</td>\n",
       "      <td>0.016807</td>\n",
       "      <td>0.000217</td>\n",
       "      <td>EXECUTIVE, Apartment</td>\n",
       "      <td>75.583333</td>\n",
       "      <td>144.0</td>\n",
       "      <td>10 TO 12</td>\n",
       "      <td>968000.0</td>\n",
       "      <td>353501.75000</td>\n",
       "    </tr>\n",
       "    <tr>\n",
       "      <th>2</th>\n",
       "      <td>12</td>\n",
       "      <td>2021</td>\n",
       "      <td>TAMPINES</td>\n",
       "      <td>156 TAMPINES STREET 12</td>\n",
       "      <td>Tampines</td>\n",
       "      <td>0.370873</td>\n",
       "      <td>12.479752</td>\n",
       "      <td>0.033613</td>\n",
       "      <td>0.000229</td>\n",
       "      <td>EXECUTIVE, Maisonette</td>\n",
       "      <td>61.750000</td>\n",
       "      <td>148.0</td>\n",
       "      <td>01 TO 03</td>\n",
       "      <td>998000.0</td>\n",
       "      <td>342406.37500</td>\n",
       "    </tr>\n",
       "    <tr>\n",
       "      <th>3</th>\n",
       "      <td>12</td>\n",
       "      <td>2021</td>\n",
       "      <td>BISHAN</td>\n",
       "      <td>273B BISHAN STREET 24</td>\n",
       "      <td>Bishan</td>\n",
       "      <td>0.776182</td>\n",
       "      <td>6.297489</td>\n",
       "      <td>0.033613</td>\n",
       "      <td>0.015854</td>\n",
       "      <td>5 ROOM, DBSS</td>\n",
       "      <td>88.833333</td>\n",
       "      <td>120.0</td>\n",
       "      <td>37 TO 39</td>\n",
       "      <td>1360000.0</td>\n",
       "      <td>339411.37500</td>\n",
       "    </tr>\n",
       "    <tr>\n",
       "      <th>4</th>\n",
       "      <td>12</td>\n",
       "      <td>2021</td>\n",
       "      <td>QUEENSTOWN</td>\n",
       "      <td>89 DAWSON ROAD</td>\n",
       "      <td>Queenstown</td>\n",
       "      <td>0.658035</td>\n",
       "      <td>3.807573</td>\n",
       "      <td>0.016807</td>\n",
       "      <td>0.008342</td>\n",
       "      <td>4 ROOM, Premium Apartment Loft</td>\n",
       "      <td>93.333333</td>\n",
       "      <td>109.0</td>\n",
       "      <td>04 TO 06</td>\n",
       "      <td>968000.0</td>\n",
       "      <td>332061.12500</td>\n",
       "    </tr>\n",
       "    <tr>\n",
       "      <th>5</th>\n",
       "      <td>6</td>\n",
       "      <td>2021</td>\n",
       "      <td>BUKIT MERAH</td>\n",
       "      <td>17 TIONG BAHRU ROAD</td>\n",
       "      <td>Tiong Bahru</td>\n",
       "      <td>0.693391</td>\n",
       "      <td>2.058774</td>\n",
       "      <td>0.016807</td>\n",
       "      <td>0.047782</td>\n",
       "      <td>3 ROOM, Standard</td>\n",
       "      <td>50.583333</td>\n",
       "      <td>88.0</td>\n",
       "      <td>01 TO 03</td>\n",
       "      <td>680888.0</td>\n",
       "      <td>322531.28125</td>\n",
       "    </tr>\n",
       "    <tr>\n",
       "      <th>6</th>\n",
       "      <td>8</td>\n",
       "      <td>2021</td>\n",
       "      <td>CENTRAL AREA</td>\n",
       "      <td>4 TANJONG PAGAR PLAZA</td>\n",
       "      <td>Tanjong Pagar</td>\n",
       "      <td>0.451637</td>\n",
       "      <td>2.594828</td>\n",
       "      <td>0.016807</td>\n",
       "      <td>0.103876</td>\n",
       "      <td>5 ROOM, Adjoined flat</td>\n",
       "      <td>54.583333</td>\n",
       "      <td>118.0</td>\n",
       "      <td>16 TO 18</td>\n",
       "      <td>938000.0</td>\n",
       "      <td>320045.87500</td>\n",
       "    </tr>\n",
       "    <tr>\n",
       "      <th>7</th>\n",
       "      <td>12</td>\n",
       "      <td>2021</td>\n",
       "      <td>BUKIT MERAH</td>\n",
       "      <td>49 KIM PONG ROAD</td>\n",
       "      <td>Tiong Bahru</td>\n",
       "      <td>0.468378</td>\n",
       "      <td>2.365532</td>\n",
       "      <td>0.016807</td>\n",
       "      <td>0.047782</td>\n",
       "      <td>3 ROOM, Standard</td>\n",
       "      <td>50.166667</td>\n",
       "      <td>88.0</td>\n",
       "      <td>01 TO 03</td>\n",
       "      <td>695000.0</td>\n",
       "      <td>318997.75000</td>\n",
       "    </tr>\n",
       "    <tr>\n",
       "      <th>8</th>\n",
       "      <td>6</td>\n",
       "      <td>2021</td>\n",
       "      <td>QUEENSTOWN</td>\n",
       "      <td>91 DAWSON ROAD</td>\n",
       "      <td>Queenstown</td>\n",
       "      <td>0.745596</td>\n",
       "      <td>3.720593</td>\n",
       "      <td>0.016807</td>\n",
       "      <td>0.008342</td>\n",
       "      <td>4 ROOM, Premium Apartment Loft</td>\n",
       "      <td>93.916667</td>\n",
       "      <td>97.0</td>\n",
       "      <td>07 TO 09</td>\n",
       "      <td>930000.0</td>\n",
       "      <td>317532.18750</td>\n",
       "    </tr>\n",
       "    <tr>\n",
       "      <th>9</th>\n",
       "      <td>8</td>\n",
       "      <td>2021</td>\n",
       "      <td>BISHAN</td>\n",
       "      <td>275A BISHAN STREET 24</td>\n",
       "      <td>Bishan</td>\n",
       "      <td>0.827889</td>\n",
       "      <td>6.370404</td>\n",
       "      <td>0.033613</td>\n",
       "      <td>0.015854</td>\n",
       "      <td>5 ROOM, DBSS</td>\n",
       "      <td>88.916667</td>\n",
       "      <td>120.0</td>\n",
       "      <td>25 TO 27</td>\n",
       "      <td>1280000.0</td>\n",
       "      <td>317021.87500</td>\n",
       "    </tr>\n",
       "    <tr>\n",
       "      <th>10</th>\n",
       "      <td>10</td>\n",
       "      <td>2021</td>\n",
       "      <td>BUKIT MERAH</td>\n",
       "      <td>36 MOH GUAN TERRACE</td>\n",
       "      <td>Tiong Bahru</td>\n",
       "      <td>0.490926</td>\n",
       "      <td>2.278805</td>\n",
       "      <td>0.016807</td>\n",
       "      <td>0.047782</td>\n",
       "      <td>3 ROOM, Standard</td>\n",
       "      <td>50.333333</td>\n",
       "      <td>88.0</td>\n",
       "      <td>01 TO 03</td>\n",
       "      <td>690000.0</td>\n",
       "      <td>314059.78125</td>\n",
       "    </tr>\n",
       "    <tr>\n",
       "      <th>11</th>\n",
       "      <td>11</td>\n",
       "      <td>2021</td>\n",
       "      <td>BUKIT MERAH</td>\n",
       "      <td>127D KIM TIAN ROAD</td>\n",
       "      <td>Tiong Bahru</td>\n",
       "      <td>0.686789</td>\n",
       "      <td>2.664024</td>\n",
       "      <td>0.016807</td>\n",
       "      <td>0.047782</td>\n",
       "      <td>5 ROOM, Improved</td>\n",
       "      <td>90.333333</td>\n",
       "      <td>113.0</td>\n",
       "      <td>16 TO 18</td>\n",
       "      <td>1165000.0</td>\n",
       "      <td>313182.68750</td>\n",
       "    </tr>\n",
       "    <tr>\n",
       "      <th>12</th>\n",
       "      <td>11</td>\n",
       "      <td>2021</td>\n",
       "      <td>CENTRAL AREA</td>\n",
       "      <td>3 TANJONG PAGAR PLAZA</td>\n",
       "      <td>Tanjong Pagar</td>\n",
       "      <td>0.490378</td>\n",
       "      <td>2.630876</td>\n",
       "      <td>0.016807</td>\n",
       "      <td>0.103876</td>\n",
       "      <td>5 ROOM, Adjoined flat</td>\n",
       "      <td>54.250000</td>\n",
       "      <td>139.0</td>\n",
       "      <td>07 TO 09</td>\n",
       "      <td>958000.0</td>\n",
       "      <td>310048.62500</td>\n",
       "    </tr>\n",
       "    <tr>\n",
       "      <th>13</th>\n",
       "      <td>6</td>\n",
       "      <td>2021</td>\n",
       "      <td>QUEENSTOWN</td>\n",
       "      <td>91 DAWSON ROAD</td>\n",
       "      <td>Queenstown</td>\n",
       "      <td>0.745596</td>\n",
       "      <td>3.720593</td>\n",
       "      <td>0.016807</td>\n",
       "      <td>0.008342</td>\n",
       "      <td>4 ROOM, Premium Apartment Loft</td>\n",
       "      <td>93.916667</td>\n",
       "      <td>109.0</td>\n",
       "      <td>31 TO 33</td>\n",
       "      <td>1032888.0</td>\n",
       "      <td>308654.25000</td>\n",
       "    </tr>\n",
       "    <tr>\n",
       "      <th>14</th>\n",
       "      <td>8</td>\n",
       "      <td>2021</td>\n",
       "      <td>ANG MO KIO</td>\n",
       "      <td>310A ANG MO KIO AVENUE 1</td>\n",
       "      <td>Ang Mo Kio</td>\n",
       "      <td>0.860056</td>\n",
       "      <td>7.263401</td>\n",
       "      <td>0.016807</td>\n",
       "      <td>0.006243</td>\n",
       "      <td>5 ROOM, Improved</td>\n",
       "      <td>90.166667</td>\n",
       "      <td>121.0</td>\n",
       "      <td>28 TO 30</td>\n",
       "      <td>1100000.0</td>\n",
       "      <td>308231.00000</td>\n",
       "    </tr>\n",
       "    <tr>\n",
       "      <th>15</th>\n",
       "      <td>10</td>\n",
       "      <td>2021</td>\n",
       "      <td>QUEENSTOWN</td>\n",
       "      <td>92 DAWSON ROAD</td>\n",
       "      <td>Queenstown</td>\n",
       "      <td>0.584731</td>\n",
       "      <td>3.882019</td>\n",
       "      <td>0.016807</td>\n",
       "      <td>0.008342</td>\n",
       "      <td>4 ROOM, Premium Apartment Loft</td>\n",
       "      <td>93.500000</td>\n",
       "      <td>97.0</td>\n",
       "      <td>13 TO 15</td>\n",
       "      <td>958000.0</td>\n",
       "      <td>307846.37500</td>\n",
       "    </tr>\n",
       "    <tr>\n",
       "      <th>16</th>\n",
       "      <td>10</td>\n",
       "      <td>2021</td>\n",
       "      <td>BISHAN</td>\n",
       "      <td>237 BISHAN STREET 22</td>\n",
       "      <td>Bishan</td>\n",
       "      <td>0.947205</td>\n",
       "      <td>6.663943</td>\n",
       "      <td>0.033613</td>\n",
       "      <td>0.015854</td>\n",
       "      <td>5 ROOM, Improved</td>\n",
       "      <td>69.583333</td>\n",
       "      <td>121.0</td>\n",
       "      <td>07 TO 09</td>\n",
       "      <td>988000.0</td>\n",
       "      <td>307658.12500</td>\n",
       "    </tr>\n",
       "    <tr>\n",
       "      <th>17</th>\n",
       "      <td>10</td>\n",
       "      <td>2021</td>\n",
       "      <td>BUKIT MERAH</td>\n",
       "      <td>56 HAVELOCK ROAD</td>\n",
       "      <td>Tiong Bahru</td>\n",
       "      <td>0.451387</td>\n",
       "      <td>2.128424</td>\n",
       "      <td>0.016807</td>\n",
       "      <td>0.047782</td>\n",
       "      <td>5 ROOM, Improved</td>\n",
       "      <td>90.750000</td>\n",
       "      <td>114.0</td>\n",
       "      <td>34 TO 36</td>\n",
       "      <td>1245000.0</td>\n",
       "      <td>303951.00000</td>\n",
       "    </tr>\n",
       "    <tr>\n",
       "      <th>18</th>\n",
       "      <td>4</td>\n",
       "      <td>2021</td>\n",
       "      <td>BUKIT MERAH</td>\n",
       "      <td>35 LIM LIAK STREET</td>\n",
       "      <td>Tiong Bahru</td>\n",
       "      <td>0.481551</td>\n",
       "      <td>2.262574</td>\n",
       "      <td>0.016807</td>\n",
       "      <td>0.047782</td>\n",
       "      <td>3 ROOM, Standard</td>\n",
       "      <td>50.833333</td>\n",
       "      <td>88.0</td>\n",
       "      <td>01 TO 03</td>\n",
       "      <td>680000.0</td>\n",
       "      <td>303329.43750</td>\n",
       "    </tr>\n",
       "    <tr>\n",
       "      <th>19</th>\n",
       "      <td>12</td>\n",
       "      <td>2021</td>\n",
       "      <td>HOUGANG</td>\n",
       "      <td>615 HOUGANG AVENUE 8</td>\n",
       "      <td>Hougang</td>\n",
       "      <td>0.899849</td>\n",
       "      <td>8.828235</td>\n",
       "      <td>0.016807</td>\n",
       "      <td>0.001507</td>\n",
       "      <td>EXECUTIVE, Apartment</td>\n",
       "      <td>63.666667</td>\n",
       "      <td>142.0</td>\n",
       "      <td>04 TO 06</td>\n",
       "      <td>873000.0</td>\n",
       "      <td>302085.93750</td>\n",
       "    </tr>\n",
       "    <tr>\n",
       "      <th>20</th>\n",
       "      <td>9</td>\n",
       "      <td>2021</td>\n",
       "      <td>BUKIT MERAH</td>\n",
       "      <td>96A HENDERSON ROAD</td>\n",
       "      <td>Tiong Bahru</td>\n",
       "      <td>0.586629</td>\n",
       "      <td>2.932814</td>\n",
       "      <td>0.016807</td>\n",
       "      <td>0.047782</td>\n",
       "      <td>5 ROOM, Improved</td>\n",
       "      <td>96.750000</td>\n",
       "      <td>113.0</td>\n",
       "      <td>28 TO 30</td>\n",
       "      <td>1220000.0</td>\n",
       "      <td>299094.37500</td>\n",
       "    </tr>\n",
       "    <tr>\n",
       "      <th>21</th>\n",
       "      <td>3</td>\n",
       "      <td>2021</td>\n",
       "      <td>QUEENSTOWN</td>\n",
       "      <td>90 DAWSON ROAD</td>\n",
       "      <td>Queenstown</td>\n",
       "      <td>0.701852</td>\n",
       "      <td>3.763948</td>\n",
       "      <td>0.016807</td>\n",
       "      <td>0.008342</td>\n",
       "      <td>4 ROOM, Premium Apartment Loft</td>\n",
       "      <td>94.166667</td>\n",
       "      <td>95.0</td>\n",
       "      <td>10 TO 12</td>\n",
       "      <td>920000.0</td>\n",
       "      <td>298485.81250</td>\n",
       "    </tr>\n",
       "    <tr>\n",
       "      <th>22</th>\n",
       "      <td>12</td>\n",
       "      <td>2021</td>\n",
       "      <td>BUKIT MERAH</td>\n",
       "      <td>2C BOON TIONG ROAD</td>\n",
       "      <td>Tiong Bahru</td>\n",
       "      <td>0.656363</td>\n",
       "      <td>1.982722</td>\n",
       "      <td>0.016807</td>\n",
       "      <td>0.047782</td>\n",
       "      <td>5 ROOM, Improved</td>\n",
       "      <td>78.083333</td>\n",
       "      <td>115.0</td>\n",
       "      <td>28 TO 30</td>\n",
       "      <td>1130000.0</td>\n",
       "      <td>298479.75000</td>\n",
       "    </tr>\n",
       "    <tr>\n",
       "      <th>23</th>\n",
       "      <td>9</td>\n",
       "      <td>2021</td>\n",
       "      <td>QUEENSTOWN</td>\n",
       "      <td>91 DAWSON ROAD</td>\n",
       "      <td>Queenstown</td>\n",
       "      <td>0.745596</td>\n",
       "      <td>3.720593</td>\n",
       "      <td>0.016807</td>\n",
       "      <td>0.008342</td>\n",
       "      <td>4 ROOM, Premium Apartment Loft</td>\n",
       "      <td>93.666667</td>\n",
       "      <td>97.0</td>\n",
       "      <td>25 TO 27</td>\n",
       "      <td>968800.0</td>\n",
       "      <td>295921.18750</td>\n",
       "    </tr>\n",
       "    <tr>\n",
       "      <th>24</th>\n",
       "      <td>8</td>\n",
       "      <td>2021</td>\n",
       "      <td>BUKIT MERAH</td>\n",
       "      <td>48 MOH GUAN TERRACE</td>\n",
       "      <td>Tiong Bahru</td>\n",
       "      <td>0.538563</td>\n",
       "      <td>2.345844</td>\n",
       "      <td>0.016807</td>\n",
       "      <td>0.047782</td>\n",
       "      <td>3 ROOM, Standard</td>\n",
       "      <td>50.500000</td>\n",
       "      <td>77.0</td>\n",
       "      <td>01 TO 03</td>\n",
       "      <td>628000.0</td>\n",
       "      <td>295535.53125</td>\n",
       "    </tr>\n",
       "  </tbody>\n",
       "</table>\n",
       "</div>"
      ],
      "text/plain": [
       "    month  year          town                full_address    nearest_stn  \\\n",
       "0      11  2021   BUKIT MERAH            46 SENG POH ROAD    Tiong Bahru   \n",
       "1       6  2021   BUKIT BATOK  288A BUKIT BATOK STREET 25    Bukit Batok   \n",
       "2      12  2021      TAMPINES      156 TAMPINES STREET 12       Tampines   \n",
       "3      12  2021        BISHAN       273B BISHAN STREET 24         Bishan   \n",
       "4      12  2021    QUEENSTOWN              89 DAWSON ROAD     Queenstown   \n",
       "5       6  2021   BUKIT MERAH         17 TIONG BAHRU ROAD    Tiong Bahru   \n",
       "6       8  2021  CENTRAL AREA       4 TANJONG PAGAR PLAZA  Tanjong Pagar   \n",
       "7      12  2021   BUKIT MERAH            49 KIM PONG ROAD    Tiong Bahru   \n",
       "8       6  2021    QUEENSTOWN              91 DAWSON ROAD     Queenstown   \n",
       "9       8  2021        BISHAN       275A BISHAN STREET 24         Bishan   \n",
       "10     10  2021   BUKIT MERAH         36 MOH GUAN TERRACE    Tiong Bahru   \n",
       "11     11  2021   BUKIT MERAH          127D KIM TIAN ROAD    Tiong Bahru   \n",
       "12     11  2021  CENTRAL AREA       3 TANJONG PAGAR PLAZA  Tanjong Pagar   \n",
       "13      6  2021    QUEENSTOWN              91 DAWSON ROAD     Queenstown   \n",
       "14      8  2021    ANG MO KIO    310A ANG MO KIO AVENUE 1     Ang Mo Kio   \n",
       "15     10  2021    QUEENSTOWN              92 DAWSON ROAD     Queenstown   \n",
       "16     10  2021        BISHAN        237 BISHAN STREET 22         Bishan   \n",
       "17     10  2021   BUKIT MERAH            56 HAVELOCK ROAD    Tiong Bahru   \n",
       "18      4  2021   BUKIT MERAH          35 LIM LIAK STREET    Tiong Bahru   \n",
       "19     12  2021       HOUGANG        615 HOUGANG AVENUE 8        Hougang   \n",
       "20      9  2021   BUKIT MERAH          96A HENDERSON ROAD    Tiong Bahru   \n",
       "21      3  2021    QUEENSTOWN              90 DAWSON ROAD     Queenstown   \n",
       "22     12  2021   BUKIT MERAH          2C BOON TIONG ROAD    Tiong Bahru   \n",
       "23      9  2021    QUEENSTOWN              91 DAWSON ROAD     Queenstown   \n",
       "24      8  2021   BUKIT MERAH         48 MOH GUAN TERRACE    Tiong Bahru   \n",
       "\n",
       "    dist_to_nearest_stn  dist_to_dhoby  degree_centrality  \\\n",
       "0              0.581977       2.309477           0.016807   \n",
       "1              1.292540      10.763777           0.016807   \n",
       "2              0.370873      12.479752           0.033613   \n",
       "3              0.776182       6.297489           0.033613   \n",
       "4              0.658035       3.807573           0.016807   \n",
       "5              0.693391       2.058774           0.016807   \n",
       "6              0.451637       2.594828           0.016807   \n",
       "7              0.468378       2.365532           0.016807   \n",
       "8              0.745596       3.720593           0.016807   \n",
       "9              0.827889       6.370404           0.033613   \n",
       "10             0.490926       2.278805           0.016807   \n",
       "11             0.686789       2.664024           0.016807   \n",
       "12             0.490378       2.630876           0.016807   \n",
       "13             0.745596       3.720593           0.016807   \n",
       "14             0.860056       7.263401           0.016807   \n",
       "15             0.584731       3.882019           0.016807   \n",
       "16             0.947205       6.663943           0.033613   \n",
       "17             0.451387       2.128424           0.016807   \n",
       "18             0.481551       2.262574           0.016807   \n",
       "19             0.899849       8.828235           0.016807   \n",
       "20             0.586629       2.932814           0.016807   \n",
       "21             0.701852       3.763948           0.016807   \n",
       "22             0.656363       1.982722           0.016807   \n",
       "23             0.745596       3.720593           0.016807   \n",
       "24             0.538563       2.345844           0.016807   \n",
       "\n",
       "    eigenvector_centrality                 flat_model_type  \\\n",
       "0                 0.047782                3 ROOM, Standard   \n",
       "1                 0.000217            EXECUTIVE, Apartment   \n",
       "2                 0.000229           EXECUTIVE, Maisonette   \n",
       "3                 0.015854                    5 ROOM, DBSS   \n",
       "4                 0.008342  4 ROOM, Premium Apartment Loft   \n",
       "5                 0.047782                3 ROOM, Standard   \n",
       "6                 0.103876           5 ROOM, Adjoined flat   \n",
       "7                 0.047782                3 ROOM, Standard   \n",
       "8                 0.008342  4 ROOM, Premium Apartment Loft   \n",
       "9                 0.015854                    5 ROOM, DBSS   \n",
       "10                0.047782                3 ROOM, Standard   \n",
       "11                0.047782                5 ROOM, Improved   \n",
       "12                0.103876           5 ROOM, Adjoined flat   \n",
       "13                0.008342  4 ROOM, Premium Apartment Loft   \n",
       "14                0.006243                5 ROOM, Improved   \n",
       "15                0.008342  4 ROOM, Premium Apartment Loft   \n",
       "16                0.015854                5 ROOM, Improved   \n",
       "17                0.047782                5 ROOM, Improved   \n",
       "18                0.047782                3 ROOM, Standard   \n",
       "19                0.001507            EXECUTIVE, Apartment   \n",
       "20                0.047782                5 ROOM, Improved   \n",
       "21                0.008342  4 ROOM, Premium Apartment Loft   \n",
       "22                0.047782                5 ROOM, Improved   \n",
       "23                0.008342  4 ROOM, Premium Apartment Loft   \n",
       "24                0.047782                3 ROOM, Standard   \n",
       "\n",
       "    remaining_lease_years  floor_area_sqm storey_range  resale_price  \\\n",
       "0               50.166667            88.0     01 TO 03      780000.0   \n",
       "1               75.583333           144.0     10 TO 12      968000.0   \n",
       "2               61.750000           148.0     01 TO 03      998000.0   \n",
       "3               88.833333           120.0     37 TO 39     1360000.0   \n",
       "4               93.333333           109.0     04 TO 06      968000.0   \n",
       "5               50.583333            88.0     01 TO 03      680888.0   \n",
       "6               54.583333           118.0     16 TO 18      938000.0   \n",
       "7               50.166667            88.0     01 TO 03      695000.0   \n",
       "8               93.916667            97.0     07 TO 09      930000.0   \n",
       "9               88.916667           120.0     25 TO 27     1280000.0   \n",
       "10              50.333333            88.0     01 TO 03      690000.0   \n",
       "11              90.333333           113.0     16 TO 18     1165000.0   \n",
       "12              54.250000           139.0     07 TO 09      958000.0   \n",
       "13              93.916667           109.0     31 TO 33     1032888.0   \n",
       "14              90.166667           121.0     28 TO 30     1100000.0   \n",
       "15              93.500000            97.0     13 TO 15      958000.0   \n",
       "16              69.583333           121.0     07 TO 09      988000.0   \n",
       "17              90.750000           114.0     34 TO 36     1245000.0   \n",
       "18              50.833333            88.0     01 TO 03      680000.0   \n",
       "19              63.666667           142.0     04 TO 06      873000.0   \n",
       "20              96.750000           113.0     28 TO 30     1220000.0   \n",
       "21              94.166667            95.0     10 TO 12      920000.0   \n",
       "22              78.083333           115.0     28 TO 30     1130000.0   \n",
       "23              93.666667            97.0     25 TO 27      968800.0   \n",
       "24              50.500000            77.0     01 TO 03      628000.0   \n",
       "\n",
       "           error  \n",
       "0   415313.50000  \n",
       "1   353501.75000  \n",
       "2   342406.37500  \n",
       "3   339411.37500  \n",
       "4   332061.12500  \n",
       "5   322531.28125  \n",
       "6   320045.87500  \n",
       "7   318997.75000  \n",
       "8   317532.18750  \n",
       "9   317021.87500  \n",
       "10  314059.78125  \n",
       "11  313182.68750  \n",
       "12  310048.62500  \n",
       "13  308654.25000  \n",
       "14  308231.00000  \n",
       "15  307846.37500  \n",
       "16  307658.12500  \n",
       "17  303951.00000  \n",
       "18  303329.43750  \n",
       "19  302085.93750  \n",
       "20  299094.37500  \n",
       "21  298485.81250  \n",
       "22  298479.75000  \n",
       "23  295921.18750  \n",
       "24  295535.53125  "
      ]
     },
     "execution_count": 12,
     "metadata": {},
     "output_type": "execute_result"
    }
   ],
   "source": [
    "# TODO: Enter your code here\n",
    "# Calculate the errors\n",
    "df['error'] = abs(y_true - y_pred)\n",
    "\n",
    "# Sort the DataFrame by error in descending order\n",
    "sorted_df = df.sort_values(by='error', ascending=False)\n",
    "\n",
    "# Select the top 25 samples with the largest errors\n",
    "top_25_errors = sorted_df.head(25)\n",
    "\n",
    "# Reset Index to see the position of each housing error\n",
    "top_25_errors = top_25_errors.reset_index(drop=True)\n",
    "\n",
    "# Printing out the result\n",
    "top_25_errors"
   ]
  },
  {
   "cell_type": "code",
   "execution_count": 13,
   "metadata": {},
   "outputs": [
    {
     "data": {
      "text/plain": [
       "town\n",
       "BUKIT MERAH     10\n",
       "QUEENSTOWN       6\n",
       "BISHAN           3\n",
       "CENTRAL AREA     2\n",
       "BUKIT BATOK      1\n",
       "TAMPINES         1\n",
       "ANG MO KIO       1\n",
       "HOUGANG          1\n",
       "Name: count, dtype: int64"
      ]
     },
     "execution_count": 13,
     "metadata": {},
     "output_type": "execute_result"
    }
   ],
   "source": [
    "top_25_errors['town'].value_counts()"
   ]
  },
  {
   "cell_type": "code",
   "execution_count": 14,
   "metadata": {},
   "outputs": [
    {
     "data": {
      "text/plain": [
       "month                          0\n",
       "year                           0\n",
       "town                           0\n",
       "full_address                   0\n",
       "nearest_stn                    0\n",
       "dist_to_nearest_stn            0\n",
       "dist_to_dhoby                  0\n",
       "degree_centrality              0\n",
       "eigenvector_centrality         0\n",
       "flat_model_type                0\n",
       "remaining_lease_years          0\n",
       "floor_area_sqm                 0\n",
       "storey_range                   0\n",
       "resale_price                   0\n",
       "error                     130496\n",
       "dtype: int64"
      ]
     },
     "execution_count": 14,
     "metadata": {},
     "output_type": "execute_result"
    }
   ],
   "source": [
    "df.isna().sum()"
   ]
  },
  {
   "cell_type": "markdown",
   "metadata": {
    "id": "bX5zy7V3qaGp"
   },
   "source": [
    "\\# TODO: \\< I have realised that the top 25 errors come from houses that are in the year of 2021 which is the test data used for evaluation and prediction of the tabular model. Hence, I think ensuring that the data is properly scaled and normalized is neccesary especially if algorithms are sensitive to the scale of the input features. There should also be re-evaluation of the model using cross-validation to ensure that the observed errors are not just due to a particular split of the data. \\>"
   ]
  }
 ],
 "metadata": {
  "colab": {
   "authorship_tag": "ABX9TyOG8ZhA98h3O6fnefkjOU9w",
   "provenance": []
  },
  "kernelspec": {
   "display_name": "Python 3 (ipykernel)",
   "language": "python",
   "name": "python3"
  },
  "language_info": {
   "codemirror_mode": {
    "name": "ipython",
    "version": 3
   },
   "file_extension": ".py",
   "mimetype": "text/x-python",
   "name": "python",
   "nbconvert_exporter": "python",
   "pygments_lexer": "ipython3",
   "version": "3.9.18"
  }
 },
 "nbformat": 4,
 "nbformat_minor": 1
}
